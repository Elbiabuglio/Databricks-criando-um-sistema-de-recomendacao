{
 "cells": [
  {
   "cell_type": "code",
   "execution_count": 0,
   "metadata": {
    "application/vnd.databricks.v1+cell": {
     "cellMetadata": {},
     "inputWidgets": {},
     "nuid": "4f7637fa-5050-4c4c-aee1-37e6b8e7a18a",
     "showTitle": false,
     "title": ""
    }
   },
   "outputs": [],
   "source": [
    "import pyspark.pandas as ps"
   ]
  },
  {
   "cell_type": "code",
   "execution_count": 0,
   "metadata": {
    "application/vnd.databricks.v1+cell": {
     "cellMetadata": {},
     "inputWidgets": {},
     "nuid": "a5557d4c-3768-4060-8291-ba88b3b4fa19",
     "showTitle": false,
     "title": ""
    }
   },
   "outputs": [],
   "source": [
    "path = 'dbfs:/FileStore/dados_transformados/data.parquet/'\n",
    "df_data = ps.read_parquet(path)\n",
    "df_data.head()"
   ]
  },
  {
   "cell_type": "code",
   "execution_count": 0,
   "metadata": {
    "application/vnd.databricks.v1+cell": {
     "cellMetadata": {},
     "inputWidgets": {},
     "nuid": "7296be04-c448-4aba-9a07-a09d5b6f95cd",
     "showTitle": false,
     "title": ""
    }
   },
   "outputs": [],
   "source": [
    "df_data.describe()"
   ]
  },
  {
   "cell_type": "code",
   "execution_count": 0,
   "metadata": {
    "application/vnd.databricks.v1+cell": {
     "cellMetadata": {},
     "inputWidgets": {},
     "nuid": "19af5142-432f-4316-9100-5cc283f2625f",
     "showTitle": false,
     "title": ""
    }
   },
   "outputs": [],
   "source": [
    "len(df_data.year.unique())"
   ]
  },
  {
   "cell_type": "code",
   "execution_count": 0,
   "metadata": {
    "application/vnd.databricks.v1+cell": {
     "cellMetadata": {},
     "inputWidgets": {},
     "nuid": "c7a25f10-431c-4a5b-9588-a1aff25d3472",
     "showTitle": false,
     "title": ""
    }
   },
   "outputs": [],
   "source": [
    "df_data.year.value_counts()"
   ]
  },
  {
   "cell_type": "code",
   "execution_count": 0,
   "metadata": {
    "application/vnd.databricks.v1+cell": {
     "cellMetadata": {},
     "inputWidgets": {},
     "nuid": "a7d53cd9-3f2f-4d19-bd4f-6aca7b88fc61",
     "showTitle": false,
     "title": ""
    }
   },
   "outputs": [],
   "source": [
    "df_data.year.value_counts().sort_index()"
   ]
  },
  {
   "cell_type": "code",
   "execution_count": 0,
   "metadata": {
    "application/vnd.databricks.v1+cell": {
     "cellMetadata": {},
     "inputWidgets": {},
     "nuid": "6f596d30-ec53-4820-845c-0ef37b0af37a",
     "showTitle": false,
     "title": ""
    }
   },
   "outputs": [],
   "source": [
    "df_data.year.value_counts().sort_index().plot.bar()"
   ]
  },
  {
   "cell_type": "code",
   "execution_count": 0,
   "metadata": {
    "application/vnd.databricks.v1+cell": {
     "cellMetadata": {},
     "inputWidgets": {},
     "nuid": "b3e6edec-e2c3-4dbe-bf67-3d4f9caf1720",
     "showTitle": false,
     "title": ""
    }
   },
   "outputs": [],
   "source": [
    "df_data['decade'] = df_data.year.apply(lambda year: f'{(year//10)*10}s')"
   ]
  },
  {
   "cell_type": "code",
   "execution_count": 0,
   "metadata": {
    "application/vnd.databricks.v1+cell": {
     "cellMetadata": {},
     "inputWidgets": {},
     "nuid": "6f06cbdf-5d84-4300-88fc-6abd3022c73a",
     "showTitle": false,
     "title": ""
    }
   },
   "outputs": [],
   "source": [
    "df_data.head()"
   ]
  },
  {
   "cell_type": "code",
   "execution_count": 0,
   "metadata": {
    "application/vnd.databricks.v1+cell": {
     "cellMetadata": {},
     "inputWidgets": {},
     "nuid": "592bcf8a-ea6c-4522-825d-1a0747d7963f",
     "showTitle": false,
     "title": ""
    }
   },
   "outputs": [],
   "source": [
    "df_data_2 = df_data[['decade']]\n",
    "df_data_2['qtd'] = 1"
   ]
  },
  {
   "cell_type": "code",
   "execution_count": 0,
   "metadata": {
    "application/vnd.databricks.v1+cell": {
     "cellMetadata": {},
     "inputWidgets": {},
     "nuid": "70e61a7d-c0c3-4d2c-93bd-5109e969e78f",
     "showTitle": false,
     "title": ""
    }
   },
   "outputs": [],
   "source": [
    "df_data_2 = df_data_2.groupby('decade').sum()\n",
    "df_data_2"
   ]
  },
  {
   "cell_type": "code",
   "execution_count": 0,
   "metadata": {
    "application/vnd.databricks.v1+cell": {
     "cellMetadata": {},
     "inputWidgets": {},
     "nuid": "23fa3779-398b-47d1-b539-3d7cbd36293e",
     "showTitle": false,
     "title": ""
    }
   },
   "outputs": [],
   "source": [
    "df_data_2.sort_index().plot.bar(y='qtd')"
   ]
  },
  {
   "cell_type": "code",
   "execution_count": 0,
   "metadata": {
    "application/vnd.databricks.v1+cell": {
     "cellMetadata": {},
     "inputWidgets": {},
     "nuid": "4be52af7-1987-4ea8-be92-8e2b0e51edca",
     "showTitle": false,
     "title": ""
    }
   },
   "outputs": [],
   "source": [
    " dbutils.fs.ls(\"dbfs:/FileStore/dados_transformados\")"
   ]
  },
  {
   "cell_type": "code",
   "execution_count": 0,
   "metadata": {
    "application/vnd.databricks.v1+cell": {
     "cellMetadata": {},
     "inputWidgets": {},
     "nuid": "f1347947-8dd7-482a-9e32-a9b842436cbe",
     "showTitle": false,
     "title": ""
    }
   },
   "outputs": [],
   "source": [
    "path = 'dbfs:/FileStore/dados_transformados/data_year.parquet'\n",
    "df_year = ps.read_parquet(path)\n",
    "df_year.head()"
   ]
  },
  {
   "cell_type": "code",
   "execution_count": 0,
   "metadata": {
    "application/vnd.databricks.v1+cell": {
     "cellMetadata": {},
     "inputWidgets": {},
     "nuid": "58c1fce5-d645-4eab-a73e-82b6c2556c54",
     "showTitle": false,
     "title": ""
    }
   },
   "outputs": [],
   "source": [
    "len(df_year.year.unique())"
   ]
  },
  {
   "cell_type": "code",
   "execution_count": 0,
   "metadata": {
    "application/vnd.databricks.v1+cell": {
     "cellMetadata": {},
     "inputWidgets": {},
     "nuid": "559a66cc-46e2-4e57-82cb-6f31b2bb561f",
     "showTitle": false,
     "title": ""
    }
   },
   "outputs": [],
   "source": [
    "df_year.plot.line(x='year', y='duration_ms')"
   ]
  },
  {
   "cell_type": "code",
   "execution_count": 0,
   "metadata": {
    "application/vnd.databricks.v1+cell": {
     "cellMetadata": {},
     "inputWidgets": {},
     "nuid": "a4a63d4f-5024-4b19-a025-f07059a7f093",
     "showTitle": false,
     "title": ""
    }
   },
   "outputs": [],
   "source": [
    "df_year.plot.line(x='year', y=['acousticness', 'danceability', 'energy',\n",
    "       'instrumentalness', 'liveness', 'speechiness', 'valence'])"
   ]
  },
  {
   "cell_type": "markdown",
   "metadata": {
    "application/vnd.databricks.v1+cell": {
     "cellMetadata": {},
     "inputWidgets": {},
     "nuid": "7bdd8a2f-7929-4392-b1d7-7d10664c8373",
     "showTitle": false,
     "title": ""
    }
   },
   "source": [
    "Perguntas\n",
    "* 1 - Quais são os 10 top artistas ?\n",
    "* 2 - Qual o gênero musical dos 10 top artistas ?\n",
    "* 3 - Quais são os 10 top gêneros ?\n",
    "* 4 - Quais artistas então nos 10 top gêneros"
   ]
  },
  {
   "cell_type": "code",
   "execution_count": 0,
   "metadata": {
    "application/vnd.databricks.v1+cell": {
     "cellMetadata": {},
     "inputWidgets": {},
     "nuid": "979887e1-cad1-4f9a-b618-0d97f0062ebd",
     "showTitle": false,
     "title": ""
    }
   },
   "outputs": [],
   "source": [
    " dbutils.fs.ls(\"dbfs:/FileStore/dados_transformados\")"
   ]
  },
  {
   "cell_type": "code",
   "execution_count": 0,
   "metadata": {
    "application/vnd.databricks.v1+cell": {
     "cellMetadata": {},
     "inputWidgets": {},
     "nuid": "1b03d52d-aa03-444e-ba77-44db5ff4c1c6",
     "showTitle": false,
     "title": ""
    }
   },
   "outputs": [],
   "source": [
    "df_genres = ps.read_parquet('dbfs:/FileStore/dados_transformados/data_genres.parquet/')\n",
    "df_artists = ps.read_parquet('dbfs:/FileStore/dados_transformados/data_artist.parquet/')\n",
    "df_Wgenres = ps.read_parquet('dbfs:/FileStore/dados_transformados/data_w_genres.parquet')\n"
   ]
  },
  {
   "cell_type": "code",
   "execution_count": 0,
   "metadata": {
    "application/vnd.databricks.v1+cell": {
     "cellMetadata": {},
     "inputWidgets": {},
     "nuid": "6a206ad5-9e8d-4e6a-b7aa-e17779ba20d4",
     "showTitle": false,
     "title": ""
    }
   },
   "outputs": [],
   "source": [
    "df_artists.head()"
   ]
  },
  {
   "cell_type": "code",
   "execution_count": 0,
   "metadata": {
    "application/vnd.databricks.v1+cell": {
     "cellMetadata": {},
     "inputWidgets": {},
     "nuid": "517c8fdd-996a-4e62-bb99-68318c5caea2",
     "showTitle": false,
     "title": ""
    }
   },
   "outputs": [],
   "source": [
    "artista_ordenado = df_artists.sort_values(by='count', ascending=False)\n",
    "artista_ordenado.head()"
   ]
  },
  {
   "cell_type": "code",
   "execution_count": 0,
   "metadata": {
    "application/vnd.databricks.v1+cell": {
     "cellMetadata": {},
     "inputWidgets": {},
     "nuid": "a3035508-59b0-48fd-9f5f-d4326ae15bb6",
     "showTitle": false,
     "title": ""
    }
   },
   "outputs": [],
   "source": [
    "top_artista = artista_ordenado.iloc[0:10]\n",
    "top_artista"
   ]
  },
  {
   "cell_type": "code",
   "execution_count": 0,
   "metadata": {
    "application/vnd.databricks.v1+cell": {
     "cellMetadata": {},
     "inputWidgets": {},
     "nuid": "26e73b9e-6c2f-4dcd-89e7-f740e8b3bdd7",
     "showTitle": false,
     "title": ""
    }
   },
   "outputs": [],
   "source": [
    "plot_title = 'Top 10 Artistas'\n",
    "top_artista.plot.bar(x='count', y = 'artists', title = plot_title)"
   ]
  },
  {
   "cell_type": "code",
   "execution_count": 0,
   "metadata": {
    "application/vnd.databricks.v1+cell": {
     "cellMetadata": {},
     "inputWidgets": {},
     "nuid": "c53b6d86-c9d2-4ff5-b4f6-d07d0739ece0",
     "showTitle": false,
     "title": ""
    }
   },
   "outputs": [],
   "source": [
    "lista_artistas = top_artista.artists.unique().to_list()\n",
    "lista_artistas"
   ]
  },
  {
   "cell_type": "code",
   "execution_count": 0,
   "metadata": {
    "application/vnd.databricks.v1+cell": {
     "cellMetadata": {},
     "inputWidgets": {},
     "nuid": "35978432-c3ef-4134-91e1-422a9e494e78",
     "showTitle": false,
     "title": ""
    }
   },
   "outputs": [],
   "source": [
    "artista_genero = df_Wgenres.loc[df_Wgenres['artists'].isin(lista_artistas)]\n",
    "artista_genero = artista_genero[['genres', 'artists']]\n",
    "display(artista_genero)"
   ]
  }
 ],
 "metadata": {
  "application/vnd.databricks.v1+notebook": {
   "dashboards": [],
   "language": "python",
   "notebookMetadata": {
    "pythonIndentUnit": 4
   },
   "notebookName": "projeto",
   "notebookOrigID": 2408705868648764,
   "widgets": {}
  },
  "language_info": {
   "name": "python"
  }
 },
 "nbformat": 4,
 "nbformat_minor": 0
}

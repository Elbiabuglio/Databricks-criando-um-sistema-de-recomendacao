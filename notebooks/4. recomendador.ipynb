{
 "cells": [
  {
   "cell_type": "code",
   "execution_count": null,
   "metadata": {
    "application/vnd.databricks.v1+cell": {
     "cellMetadata": {
      "byteLimit": 2048000,
      "rowLimit": 10000
     },
     "inputWidgets": {},
     "nuid": "971be637-7fa9-48b4-a336-c37bf0757e19",
     "showTitle": false,
     "title": ""
    },
    "id": "TQKXV4HxgZ-k"
   },
   "outputs": [],
   "source": [
    "nome_musica = 'Taylor Swift - Blank Space'"
   ]
  },
  {
   "cell_type": "code",
   "execution_count": null,
   "metadata": {
    "application/vnd.databricks.v1+cell": {
     "cellMetadata": {
      "byteLimit": 2048000,
      "rowLimit": 10000
     },
     "inputWidgets": {},
     "nuid": "8ec1ad0b-fbfd-4baf-b50c-5c68ea8d2ed8",
     "showTitle": false,
     "title": ""
    },
    "id": "CXUWeqZwgZ-k"
   },
   "outputs": [],
   "source": [
    "cluster = projetion_kmeans.filter(projetion_kmeans.artists_song == nome_musica).select('cluster_pca').collect()[0][0]\n",
    "cluster"
   ]
  },
  {
   "cell_type": "code",
   "execution_count": null,
   "metadata": {
    "application/vnd.databricks.v1+cell": {
     "cellMetadata": {
      "byteLimit": 2048000,
      "rowLimit": 10000
     },
     "inputWidgets": {},
     "nuid": "9db59f35-0a95-4a11-80f8-7be93cd33ac1",
     "showTitle": false,
     "title": ""
    },
    "id": "pjJX9JEpgZ-l"
   },
   "outputs": [],
   "source": [
    "musicas_recomendadas = projetion_kmeans.filter(projetion_kmeans.cluster_pca == cluster)\\\n",
    "                                       .select('artists_song', 'id', 'pca_features')\n",
    "musicas_recomendadas.show()"
   ]
  },
  {
   "cell_type": "code",
   "execution_count": null,
   "metadata": {
    "application/vnd.databricks.v1+cell": {
     "cellMetadata": {
      "byteLimit": 2048000,
      "rowLimit": 10000
     },
     "inputWidgets": {},
     "nuid": "fcab8855-3763-4930-98a5-0e2d3b51a117",
     "showTitle": false,
     "title": ""
    },
    "id": "z6700E-PgZ-l"
   },
   "outputs": [],
   "source": [
    "componenetes_musica = musicas_recomendadas.filter(musicas_recomendadas.artists_song == nome_musica)\\\n",
    "                                          .select('pca_features').collect()[0][0]\n",
    "componenetes_musica                             "
   ]
  },
  {
   "cell_type": "code",
   "execution_count": null,
   "metadata": {
    "application/vnd.databricks.v1+cell": {
     "cellMetadata": {
      "byteLimit": 2048000,
      "rowLimit": 10000
     },
     "inputWidgets": {},
     "nuid": "d933537b-8615-4fde-a467-5d853a3d39e3",
     "showTitle": false,
     "title": ""
    },
    "id": "l8vfLpumgZ-l"
   },
   "outputs": [],
   "source": [
    "from scipy.spatial.distance import euclidean\n",
    "from pyspark.sql.types import FloatType\n",
    "import pyspark.sql.functions as f"
   ]
  },
  {
   "cell_type": "code",
   "execution_count": null,
   "metadata": {
    "application/vnd.databricks.v1+cell": {
     "cellMetadata": {
      "byteLimit": 2048000,
      "rowLimit": 10000
     },
     "inputWidgets": {},
     "nuid": "8cc55916-e6d4-4a10-a514-94cbcc3827fb",
     "showTitle": false,
     "title": ""
    },
    "id": "Z9kDezGEgZ-l"
   },
   "outputs": [],
   "source": [
    "def calcula_distance(value):\n",
    "    return euclidean(componenetes_musica, value)\n",
    "\n",
    "udf_calcula_distance = f.udf(calcula_distance, FloatType())\n",
    "\n",
    "musicas_recomendadas_dist = musicas_recomendadas.withColumn('Dist', udf_calcula_distance('pca_features'))"
   ]
  },
  {
   "cell_type": "code",
   "execution_count": null,
   "metadata": {
    "application/vnd.databricks.v1+cell": {
     "cellMetadata": {
      "byteLimit": 2048000,
      "rowLimit": 10000
     },
     "inputWidgets": {},
     "nuid": "0eec025c-827e-46b0-b31f-cae8f0d3f8e9",
     "showTitle": false,
     "title": ""
    },
    "id": "mJFzeo9PgZ-l"
   },
   "outputs": [],
   "source": [
    "recomendadas = spark.createDataFrame(musicas_recomendadas_dist.sort('Dist').take(10)).select(['artists_song', 'id', 'Dist'])\n",
    "\n",
    "recomendadas.show()"
   ]
  },
  {
   "cell_type": "code",
   "execution_count": null,
   "metadata": {
    "application/vnd.databricks.v1+cell": {
     "cellMetadata": {
      "byteLimit": 2048000,
      "rowLimit": 10000
     },
     "inputWidgets": {},
     "nuid": "ef2af5eb-96f5-46b9-93f5-1873c41a9e56",
     "showTitle": false,
     "title": ""
    },
    "id": "OcDI6LxtgZ-l"
   },
   "outputs": [],
   "source": [
    "def recomendador(nome_musica):\n",
    "    cluster = projetion_kmeans.filter(projetion_kmeans.artists_song == nome_musica).select('cluster_pca').collect()[0][0]\n",
    "    musicas_recomendadas = projetion_kmeans.filter(projetion_kmeans.cluster_pca == cluster)\\\n",
    "                                       .select('artists_song', 'id', 'pca_features')\n",
    "    componenetes_musica = musicas_recomendadas.filter(musicas_recomendadas.artists_song == nome_musica)\\\n",
    "                                          .select('pca_features').collect()[0][0]\n",
    "    \n",
    "    def calcula_distance(value):\n",
    "        return euclidean(componenetes_musica, value)\n",
    "\n",
    "    udf_calcula_distance = f.udf(calcula_distance, FloatType())\n",
    "\n",
    "    musicas_recomendadas_dist = musicas_recomendadas.withColumn('Dist', udf_calcula_distance('pca_features'))\n",
    "    \n",
    "    recomendadas = spark.createDataFrame(musicas_recomendadas_dist.sort('Dist').take(10)).select(['artists_song', 'id', 'Dist'])\n",
    "\n",
    "    return recomendadas"
   ]
  },
  {
   "cell_type": "code",
   "execution_count": null,
   "metadata": {
    "application/vnd.databricks.v1+cell": {
     "cellMetadata": {
      "byteLimit": 2048000,
      "rowLimit": 10000
     },
     "inputWidgets": {},
     "nuid": "626952e2-a58c-45d6-ba38-716f2610445a",
     "showTitle": false,
     "title": ""
    },
    "id": "RquIS6NCgZ-l"
   },
   "outputs": [],
   "source": [
    "df_recomedada = recomendador('Taylor Swift - Blank Space')\n",
    "df_recomedada.show()"
   ]
  }
 ],
 "metadata": {
  "application/vnd.databricks.v1+notebook": {
   "dashboards": [],
   "language": "python",
   "notebookMetadata": {
    "pythonIndentUnit": 4
   },
   "notebookName": "recomendador",
   "notebookOrigID": 1132886767415618,
   "widgets": {}
  },
  "colab": {
   "provenance": []
  },
  "language_info": {
   "name": "python"
  }
 },
 "nbformat": 4,
 "nbformat_minor": 0
}
